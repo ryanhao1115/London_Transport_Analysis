{
 "cells": [
  {
   "cell_type": "markdown",
   "metadata": {},
   "source": [
    "## Movies\n",
    "In this part of mini-project, we need to have our API-KEY ready because this API won't work without it.\n",
    "\n",
    "We encourage you to look for correct endpoints in [the documentation](https://developers.themoviedb.org/3/account). We can also play around with requests there before copying them to Python."
   ]
  },
  {
   "cell_type": "code",
   "execution_count": 143,
   "metadata": {},
   "outputs": [],
   "source": [
    "import requests as re\n",
    "import os\n",
    "from IPython.display import JSON"
   ]
  },
  {
   "cell_type": "markdown",
   "metadata": {},
   "source": [
    "## Demo"
   ]
  },
  {
   "cell_type": "code",
   "execution_count": null,
   "metadata": {},
   "outputs": [],
   "source": [
    "## Pandemic impacts movie industry"
   ]
  },
  {
   "cell_type": "code",
   "execution_count": 191,
   "metadata": {},
   "outputs": [],
   "source": [
    "def searchMovieYear(year,api_key):\n",
    "    #prepare search link \n",
    "    base = \"https://api.themoviedb.org/3\"\n",
    "    url = \"/search/movie\"\n",
    "   \n",
    "    #get all movies' ids which were release in the same year\n",
    "    id_dict = {}\n",
    "    for i in ['a','e','i','o','u']:\n",
    "        params = f'?query={i}&primary_release_year={year}&api_key={api_key}' \n",
    "    \n",
    "        res = re.get(base+url+params)\n",
    "        if res.status_code != 200:\n",
    "            print('Something wrong！')\n",
    "            return False\n",
    "    \n",
    "        response = res.json()\n",
    "        for s in range(len(response['results'])):\n",
    "            id_dict[response['results'][s]['id']] = 1\n",
    "        \n",
    "    \n",
    "    #get all moives' detail, and sum \n",
    "    sum_budget = 0\n",
    "    sum_revenue = 0\n",
    "    sum_vote_ave = 0\n",
    "    sum_vote_count = 0\n",
    "    sum_runtime = 0\n",
    "    \n",
    "    for i in id_dict.keys():\n",
    "        response_det = searchMovieDetail(i,api_key)\n",
    "        sum_budget += response_det['budget']\n",
    "        sum_revenue += response_det['revenue']\n",
    "        sum_vote_ave += response_det['vote_average']\n",
    "        sum_vote_count += response_det['vote_count']\n",
    "        sum_runtime += response_det['runtime']\n",
    "    \n",
    "    # get average numbers\n",
    "    statistics = {}\n",
    "    statistics['budget'] = sum_budget / len(id_dict)\n",
    "    statistics['revenue'] = sum_revenue / len(id_dict)\n",
    "    statistics['vote_ave'] = sum_vote_ave / len(id_dict)\n",
    "    statistics['vote_count'] = sum_vote_count / len(id_dict)\n",
    "    statistics['runtime'] = sum_runtime / len(id_dict)\n",
    "    \n",
    "    return statistics\n"
   ]
  },
  {
   "cell_type": "code",
   "execution_count": 196,
   "metadata": {},
   "outputs": [],
   "source": [
    "movie2021 = searchMovieYear(2021,api_key)"
   ]
  },
  {
   "cell_type": "code",
   "execution_count": 197,
   "metadata": {},
   "outputs": [
    {
     "data": {
      "text/plain": [
       "{'budget': 3069363.2395833335,\n",
       " 'revenue': 4894278.052083333,\n",
       " 'vote_ave': 2.9,\n",
       " 'vote_count': 65.82291666666667,\n",
       " 'runtime': 52.322916666666664}"
      ]
     },
     "execution_count": 197,
     "metadata": {},
     "output_type": "execute_result"
    }
   ],
   "source": [
    "movie2021"
   ]
  },
  {
   "cell_type": "code",
   "execution_count": 195,
   "metadata": {},
   "outputs": [
    {
     "data": {
      "text/plain": [
       "{'budget': 1071931.0520833333,\n",
       " 'revenue': 2080898.59375,\n",
       " 'vote_ave': 4.870833333333333,\n",
       " 'vote_count': 112.30208333333333,\n",
       " 'runtime': 60.03125}"
      ]
     },
     "execution_count": 195,
     "metadata": {},
     "output_type": "execute_result"
    }
   ],
   "source": [
    "movie2020"
   ]
  },
  {
   "cell_type": "code",
   "execution_count": 193,
   "metadata": {},
   "outputs": [
    {
     "data": {
      "text/plain": [
       "{'budget': 1427611.01010101,\n",
       " 'revenue': 4663779.0,\n",
       " 'vote_ave': 4.784848484848485,\n",
       " 'vote_count': 239.56565656565655,\n",
       " 'runtime': 72.02020202020202}"
      ]
     },
     "execution_count": 193,
     "metadata": {},
     "output_type": "execute_result"
    }
   ],
   "source": [
    "movie2019"
   ]
  },
  {
   "cell_type": "code",
   "execution_count": 183,
   "metadata": {},
   "outputs": [
    {
     "data": {
      "application/json": {
       "page": 2,
       "results": [
        {
         "adult": false,
         "backdrop_path": "/izNpxVcjKbF9BiYF4GVqxCOfewL.jpg",
         "genre_ids": [
          18
         ],
         "id": 641662,
         "original_language": "en",
         "original_title": "Pieces of a Woman",
         "overview": "When a young mother's home birth ends in unfathomable tragedy, she begins a year-long odyssey of mourning that fractures relationships with loved ones in this deeply personal story of a woman learning to live alongside her loss.",
         "popularity": 12.779,
         "poster_path": "/OgUfLlhfBFx5BPK6LzBWFvBW1w.jpg",
         "release_date": "2020-12-30",
         "title": "Pieces of a Woman",
         "video": false,
         "vote_average": 7.1,
         "vote_count": 772
        },
        {
         "adult": false,
         "backdrop_path": "/qt29tMss9OVc1PYbIYSuaQ2bBum.jpg",
         "genre_ids": [
          10749,
          18,
          10770
         ],
         "id": 661331,
         "original_language": "en",
         "original_title": "A Valentine's Match",
         "overview": "Fired from her job as a reality TV host, Natalie returns home for Valentine's Day, only to find herself running the town festival's auction with her ex-fiancé thanks to two scheming mothers.",
         "popularity": 6.98,
         "poster_path": "/oFt5aETu3TnANmS7N6zmZgJL8hh.jpg",
         "release_date": "2020-02-01",
         "title": "A Valentine's Match",
         "video": false,
         "vote_average": 7.7,
         "vote_count": 34
        },
        {
         "adult": false,
         "backdrop_path": "/fOcNMGiK13vqfKApVBJYEW8hmXr.jpg",
         "genre_ids": [
          12,
          14,
          10751
         ],
         "id": 476389,
         "original_language": "en",
         "original_title": "Anastasia: Once Upon a Time",
         "overview": "Anastasia Romanov escapes through a portal when her family is threatened by Vladimir Lenin, and she finds herself in the year 1988, befriended by a young American girl.",
         "popularity": 14.834,
         "poster_path": "/1g9R5lpmJ77kRcx4agxc3oIzN1C.jpg",
         "release_date": "2020-02-27",
         "title": "Anastasia: Once Upon a Time",
         "video": false,
         "vote_average": 6.3,
         "vote_count": 61
        },
        {
         "adult": false,
         "backdrop_path": "/pRTscbxgCpvX1hoQMUgLM2zKLGT.jpg",
         "genre_ids": [
          99
         ],
         "id": 738005,
         "original_language": "en",
         "original_title": "Chadwick Boseman:  A Tribute for a King",
         "overview": "A tribute to Chadwick Boseman, celebrating his life and legacy.",
         "popularity": 5.715,
         "poster_path": "/3TKR326AjEOtizPqfiKdEeb6IrR.jpg",
         "release_date": "2020-08-30",
         "title": "Chadwick Boseman:  A Tribute for a King",
         "video": false,
         "vote_average": 8.4,
         "vote_count": 28
        },
        {
         "adult": false,
         "backdrop_path": "/kS8f3IOtMBtb2O1oriw8v2kOpnW.jpg",
         "genre_ids": [
          10749,
          14,
          18
         ],
         "id": 600479,
         "original_language": "fr",
         "original_title": "Une sirène à Paris",
         "overview": "A man rescues a mermaid in Paris and slowly falls in love with her.",
         "popularity": 8.087,
         "poster_path": "/6tn0pNVvTfFTREKOfixksU8QCSV.jpg",
         "release_date": "2020-03-11",
         "title": "A Mermaid in Paris",
         "video": false,
         "vote_average": 6.6,
         "vote_count": 124
        },
        {
         "adult": false,
         "backdrop_path": "/bs7mYckE4BeVRtxK9MRYhNZTTqg.jpg",
         "genre_ids": [
          27
         ],
         "id": 630766,
         "original_language": "en",
         "original_title": "A Night of Horror: Nightmare Radio",
         "overview": "Rod leads a radio show dedicated to horror. Until suddenly the announcer begins to receive strange calls from a child who desperately asks for help. At first thinks that it is a bad joke until he discovers that this is not the case. These calls hide a dark secret…",
         "popularity": 17.211,
         "poster_path": "/g7EYDfGgNEF1IQymS7EvDLKnpxT.jpg",
         "release_date": "2020-02-06",
         "title": "A Night of Horror: Nightmare Radio",
         "video": false,
         "vote_average": 5.6,
         "vote_count": 55
        },
        {
         "adult": false,
         "backdrop_path": "/zqozj1iNBpmgR3GfL1omnptjO5A.jpg",
         "genre_ids": [
          99
         ],
         "id": 653725,
         "original_language": "en",
         "original_title": "Crip Camp: A Disability Revolution",
         "overview": "Down the road from Woodstock in the early 1970s, a revolution blossomed in a ramshackle summer camp for disabled teenagers, transforming their young lives and igniting a landmark movement.",
         "popularity": 12.307,
         "poster_path": "/iALSypN3MhC6kBVwc9VpuJUlm1j.jpg",
         "release_date": "2020-03-25",
         "title": "Crip Camp: A Disability Revolution",
         "video": false,
         "vote_average": 7.1,
         "vote_count": 84
        },
        {
         "adult": false,
         "backdrop_path": "/2ynv4tUJy3CiHzmzgR4JRjpwI1r.jpg",
         "genre_ids": [
          12,
          14,
          28
         ],
         "id": 634244,
         "original_language": "en",
         "original_title": "Heavenquest: A Pilgrim's Progress",
         "overview": "A man is arrested and begins having visions of a woman in white.",
         "popularity": 6.891,
         "poster_path": "/cLDPLia17AwMqSaRHccyAlInkch.jpg",
         "release_date": "2020-01-28",
         "title": "Heavenquest: A Pilgrim's Progress",
         "video": false,
         "vote_average": 5.2,
         "vote_count": 49
        },
        {
         "adult": false,
         "backdrop_path": "/hNFe5qi717Zqpmyzh1O9PkN6RcZ.jpg",
         "genre_ids": [
          35,
          10749
         ],
         "id": 718840,
         "original_language": "en",
         "original_title": "A Nice Girl Like You",
         "overview": "Lucy Neal is thrown for a loop when she is accused of being too inhibited by her ex-boyfriend. In an effort to prove him wrong, Lucy creates a rather wild to-do list that sends her on a whirlwind and surprising journey of self-discovery, friendship, and new love.",
         "popularity": 11.587,
         "poster_path": "/qVFfofTQCaoru8oiaOGW0G4YSwQ.jpg",
         "release_date": "2020-07-18",
         "title": "A Nice Girl Like You",
         "video": false,
         "vote_average": 5.7,
         "vote_count": 117
        },
        {
         "adult": false,
         "backdrop_path": "/gpwGNvcBgZb7dXHAbz7lbUn7QSK.jpg",
         "genre_ids": [
          53
         ],
         "id": 666826,
         "original_language": "en",
         "original_title": "A Daughter's Ordeal",
         "overview": "Hope has always been close to her daughter Lacy. But since her divorce from her husband, Hope has been worried about Lacy, who is struggling to cope. So Hope is excited when Lacy brings home a new friend, Cassie, whose parents recently divorced as well. Lacy and Cassie quickly become the best of friends. But when Cassie begins to drive a wedge between Lacy and her mother, Hope beings to wonder if Cassie is the godsend she first imagined.",
         "popularity": 5.079,
         "poster_path": "/ks8finYQk0GmlPVGINGTUgX7Keq.jpg",
         "release_date": "2020-01-23",
         "title": "Friends Who Kill",
         "video": false,
         "vote_average": 4.6,
         "vote_count": 10
        },
        {
         "adult": false,
         "backdrop_path": "/cwWPWhdnqOBvGz3zRzD9zbhQQLZ.jpg",
         "genre_ids": [
          35,
          10749
         ],
         "id": 768520,
         "original_language": "en",
         "original_title": "A California Christmas",
         "overview": "With his carefree lifestyle on the line, a wealthy charmer poses as a ranch hand to get a hardworking farmer to sell her family’s land before Christmas.",
         "popularity": 6.285,
         "poster_path": "/caCbdsdGHDJNMjSiA5X4mgIfe61.jpg",
         "release_date": "2020-12-14",
         "title": "A California Christmas",
         "video": false,
         "vote_average": 6.6,
         "vote_count": 192
        },
        {
         "adult": false,
         "backdrop_path": "/gzXIs1eZ80tVQuSGujjQngM9GXo.jpg",
         "genre_ids": [
          27,
          53
         ],
         "id": 707408,
         "original_language": "en",
         "original_title": "Rent-A-Pal",
         "overview": "Set in 1990, a lonely bachelor named David searches for an escape from the day-to-day drudgery of caring for his aging mother.  While seeking a partner through a video dating service, he discovers a strange VHS tape called Rent-A-Pal. Hosted by the charming and charismatic Andy, the tape offers him much-needed company, compassion, and friendship. But Andy's friendship comes at a cost, and David desperately struggles to afford the price of admission.",
         "popularity": 5.248,
         "poster_path": "/wFaO4uc8po7uNCTSdvbqduMTyuu.jpg",
         "release_date": "2020-10-11",
         "title": "Rent-A-Pal",
         "video": false,
         "vote_average": 6.3,
         "vote_count": 43
        },
        {
         "adult": false,
         "backdrop_path": "/8Fipsuf4NtzQ8vn6wHebXaXLddy.jpg",
         "genre_ids": [
          10402,
          10751,
          35
         ],
         "id": 761740,
         "original_language": "en",
         "original_title": "Frozen, A Musical Spectacular",
         "overview": "For the first time in forever, Disney Cruise Line shared full video of Frozen, A Musical Spectacular to enjoy on land featuring the opening cast. Frozen, A Musical Spectacular is presented exclusively aboard the Disney Wonder and Disney Fantasy. The show is a full-length retelling of Anna and Elsa’s Frozen adventure in Arendelle based on the Disney animated movie. Frozen, A Musical Spectacular revisits the captivating escapades of royal sisters Anna and Elsa when an accident as children changes their lives—and their relationship—forever.",
         "popularity": 7.548,
         "poster_path": "/cDm5ON9PLj1plyjPurdiRPkByOT.jpg",
         "release_date": "2020-11-06",
         "title": "Frozen, A Musical Spectacular",
         "video": true,
         "vote_average": 7,
         "vote_count": 2
        },
        {
         "adult": false,
         "backdrop_path": "/rLvCBm8SBx51mtzfepgbw7FPX1K.jpg",
         "genre_ids": [
          9648,
          18,
          10770
         ],
         "id": 657018,
         "original_language": "en",
         "original_title": "A Beautiful Place to Die: A Martha's Vineyard Mystery",
         "overview": "After being forced into early retirement, former detective Jeff Jackson returns to a quiet life on Martha's Vineyard. Quiet, at least, until a body washes up and he's drawn back into crime solving.",
         "popularity": 6.184,
         "poster_path": "/3FGGJh5S9G29YGIRYqe3zca40yL.jpg",
         "release_date": "2020-01-12",
         "title": "A Beautiful Place to Die: A Martha's Vineyard Mystery",
         "video": false,
         "vote_average": 6.7,
         "vote_count": 22
        },
        {
         "adult": false,
         "backdrop_path": "/7D0LzgRXF6UURFjnRoadWpGeMd6.jpg",
         "genre_ids": [
          99
         ],
         "id": 653731,
         "original_language": "en",
         "original_title": "A Thousand Cuts",
         "overview": "Nowhere is the worldwide erosion of democracy, fueled by social media disinformation campaigns, more starkly evident than in the authoritarian regime of Philippine President Rodrigo Duterte. Journalist Maria Ressa places the tools of the free press—and her freedom—on the line in defense of truth and democracy.",
         "popularity": 4.423,
         "poster_path": "/lRIFueMLf8aDgtrsVCYIxFrhYSI.jpg",
         "release_date": "2020-01-23",
         "title": "A Thousand Cuts",
         "video": false,
         "vote_average": 7.5,
         "vote_count": 2
        },
        {
         "adult": false,
         "backdrop_path": "/3vSdq8fHmEHATKL4bsOlUDszsQ9.jpg",
         "genre_ids": [
          35,
          18
         ],
         "id": 582897,
         "original_language": "fr",
         "original_title": "Un divan à Tunis",
         "overview": "Selma, a psychoanalyst, deals with a cast of colorful new patients after returning home to Tunisia to open a practice.",
         "popularity": 7.04,
         "poster_path": "/c8UoHYXLRClZcesFIdBGx22lH0X.jpg",
         "release_date": "2020-02-12",
         "title": "Arab Blues",
         "video": false,
         "vote_average": 6.2,
         "vote_count": 134
        },
        {
         "adult": false,
         "backdrop_path": "/9XCnndiIzsWibZhxPoo8EV04fzr.jpg",
         "genre_ids": [
          18
         ],
         "id": 530956,
         "original_language": "en",
         "original_title": "All Day and a Night",
         "overview": "While serving life in prison, a young man looks back at the people, the circumstances and the system that set him on the path toward his crime.",
         "popularity": 6.505,
         "poster_path": "/8xiV8j18GhWnnrfMGaDR0E5oOif.jpg",
         "release_date": "2020-05-01",
         "title": "All Day and a Night",
         "video": false,
         "vote_average": 6.3,
         "vote_count": 124
        },
        {
         "adult": false,
         "backdrop_path": "/8mpcSXfTz2pXhgWFgN7uDJveArP.jpg",
         "genre_ids": [
          99,
          10402
         ],
         "id": 776751,
         "original_language": "en",
         "original_title": "A Concerto Is a Conversation",
         "overview": "A virtuoso jazz pianist and film composer tracks his family's lineage through his 91-year-old grandfather from Jim Crow Florida to the Walt Disney Concert Hall.",
         "popularity": 2.733,
         "poster_path": "/4Rm6U11TB7JUEQHArUnOfeirZGE.jpg",
         "release_date": "2020-11-24",
         "title": "A Concerto Is a Conversation",
         "video": false,
         "vote_average": 7.1,
         "vote_count": 19
        },
        {
         "adult": false,
         "backdrop_path": "/nUgPOjz6O3p9uhNfAAeBAiSQKCY.jpg",
         "genre_ids": [],
         "id": 679895,
         "original_language": "en",
         "original_title": "A Stormy Night",
         "overview": "When a heavy storm threatens the city of New York, two complete strangers –a cynical documentary filmmaker from Spain and an idealist app programmer– find themselves sharing shelter, questioning each other’s understanding of life, happiness and love.",
         "popularity": 5.146,
         "poster_path": "/9D6YcsnfKcIgcUoomfNTF847DBz.jpg",
         "release_date": "2020-12-18",
         "title": "A Stormy Night",
         "video": false,
         "vote_average": 8.3,
         "vote_count": 3
        },
        {
         "adult": false,
         "backdrop_path": "/AgaQG8vqWgNO5SotfySs7dOXkxT.jpg",
         "genre_ids": [
          99
         ],
         "id": 649368,
         "original_language": "es",
         "original_title": "Camino a Roma",
         "overview": "Director Alfonso Cuarón reflects on the childhood memories, period details and creative choices that shaped his Academy Award-winning film 'ROMA.'",
         "popularity": 4.975,
         "poster_path": "/h0hO0MzC7F6cyqysL4neoAguf0u.jpg",
         "release_date": "2020-02-11",
         "title": "Road to Roma",
         "video": false,
         "vote_average": 8.3,
         "vote_count": 13
        }
       ],
       "total_pages": 110,
       "total_results": 2191
      },
      "text/plain": [
       "<IPython.core.display.JSON object>"
      ]
     },
     "execution_count": 183,
     "metadata": {},
     "output_type": "execute_result"
    }
   ],
   "source": [
    "JSON(response)"
   ]
  },
  {
   "cell_type": "code",
   "execution_count": null,
   "metadata": {},
   "outputs": [],
   "source": [
    "query = 'titanic'\n",
    "api_key = os.environ[\"TMDB_KEY\"]"
   ]
  },
  {
   "cell_type": "code",
   "execution_count": 42,
   "metadata": {},
   "outputs": [],
   "source": [
    "def searchMovieDetail(movie_id,api_key):\n",
    "    #prepare search link \n",
    "    base = \"https://api.themoviedb.org/3\"\n",
    "    url = \"/movie/\" + str(movie_id)\n",
    "    params = f'?api_key={api_key}' \n",
    "    \n",
    "    res_det = re.get(base+url+params)\n",
    "    if res_det.status_code != 200:\n",
    "        print('Something wrong！')\n",
    "        return False\n",
    "    return res_det.json()\n",
    "    "
   ]
  },
  {
   "cell_type": "code",
   "execution_count": 44,
   "metadata": {},
   "outputs": [],
   "source": [
    "def searchMovie(query,api_key):\n",
    "    #prepare search link \n",
    "    base = \"https://api.themoviedb.org/3\"\n",
    "    url = \"/search/movie\"\n",
    "    params = f'?query={query}&api_key={api_key}' \n",
    "    \n",
    "    res = re.get(base+url+params)\n",
    "    if res.status_code != 200:\n",
    "        print('Something wrong！')\n",
    "        return False\n",
    "    \n",
    "    response = res.json()\n",
    "    \n",
    "    movie_id =  response['results'][0]['id']\n",
    "    response_det = searchMovieDetail(movie_id,api_key)\n",
    "    \n",
    "    movie_detail = {}\n",
    "    movie_detail['name'] = response['results'][0]['title']\n",
    "    movie_detail['release date'] =  response['results'][0]['release_date']\n",
    "    movie_detail['runtime'] =  response_det['runtime']\n",
    "    movie_detail['revenue'] =  response_det['revenue']\n",
    "    movie_detail['length of the overview'] =  len(response_det['overview'])\n",
    "    movie_detail['number of votes'] =  response['results'][0]['vote_count']\n",
    "    movie_detail['voting average'] =  response['results'][0]['vote_average']\n",
    "    return movie_detail\n"
   ]
  },
  {
   "cell_type": "markdown",
   "metadata": {},
   "source": [
    "## Task\n",
    "Search for you favorite movie and return the information about the movie:\n",
    "- name\n",
    "- release date\n",
    "- runtime\n",
    "- revenue\n",
    "- length of the overview\n",
    "- number of votes\n",
    "- voting average"
   ]
  },
  {
   "cell_type": "code",
   "execution_count": 20,
   "metadata": {},
   "outputs": [],
   "source": [
    "query = 'The Shawshank Redemption'"
   ]
  },
  {
   "cell_type": "code",
   "execution_count": 45,
   "metadata": {},
   "outputs": [],
   "source": [
    "result = searchMovie(query,api_key)"
   ]
  },
  {
   "cell_type": "code",
   "execution_count": 46,
   "metadata": {},
   "outputs": [
    {
     "data": {
      "text/plain": [
       "{'name': 'The Shawshank Redemption',\n",
       " 'release date': '1994-09-23',\n",
       " 'runtime': 142,\n",
       " 'revenue': 28341469,\n",
       " 'length of the overview': 388,\n",
       " 'number of votes': 19285,\n",
       " 'voting average': 8.7}"
      ]
     },
     "execution_count": 46,
     "metadata": {},
     "output_type": "execute_result"
    }
   ],
   "source": [
    "result"
   ]
  },
  {
   "cell_type": "code",
   "execution_count": null,
   "metadata": {},
   "outputs": [],
   "source": []
  },
  {
   "cell_type": "markdown",
   "metadata": {},
   "source": [
    "## Task\n",
    "Search for you favorite actor/actress and return the information about him/her:\n",
    "- name\n",
    "- date of birth\n",
    "- place of birth\n",
    "- length of the biography"
   ]
  },
  {
   "cell_type": "code",
   "execution_count": 56,
   "metadata": {},
   "outputs": [],
   "source": [
    "def searchPersonDetail(p_id,api_key):\n",
    "    #prepare search link \n",
    "    base = \"https://api.themoviedb.org/3\"\n",
    "    url = \"/person/\" + str(p_id)\n",
    "    params = f'?api_key={api_key}' \n",
    "    \n",
    "    res_det = re.get(base+url+params)\n",
    "    if res_det.status_code != 200:\n",
    "        print('Something wrong！')\n",
    "        return False\n",
    "    return res_det.json()"
   ]
  },
  {
   "cell_type": "code",
   "execution_count": 60,
   "metadata": {},
   "outputs": [],
   "source": [
    "def searchPerson(query,api_key):\n",
    "    #prepare search link \n",
    "    base = \"https://api.themoviedb.org/3\"\n",
    "    url = \"/search/person\"\n",
    "    params = f'?query={query}&api_key={api_key}' \n",
    "    \n",
    "    res = re.get(base+url+params)\n",
    "    if res.status_code != 200:\n",
    "        print('Something wrong！')\n",
    "        return False\n",
    "    \n",
    "    response = res.json()\n",
    "    p_id =  response['results'][0]['id']\n",
    "    response_det = searchPersonDetail(p_id,api_key)\n",
    "    \n",
    "    person_detail = {}\n",
    "    person_detail['name'] = response_det['name']\n",
    "    person_detail['birthday'] =  response_det['birthday']\n",
    "    person_detail['place or birth'] =  response_det['place_of_birth']\n",
    "    person_detail['length of the biography'] =  len(response_det['biography'])\n",
    "    return person_detail"
   ]
  },
  {
   "cell_type": "code",
   "execution_count": 61,
   "metadata": {},
   "outputs": [],
   "source": [
    "query = 'Brad Pitt'\n",
    "result = searchPerson(query,api_key)"
   ]
  },
  {
   "cell_type": "code",
   "execution_count": 62,
   "metadata": {},
   "outputs": [
    {
     "data": {
      "text/plain": [
       "{'name': 'Brad Pitt',\n",
       " 'birthday': '1963-12-19',\n",
       " 'place or birth': 'Shawnee, Oklahoma, USA',\n",
       " 'length of the biography': 2091}"
      ]
     },
     "execution_count": 62,
     "metadata": {},
     "output_type": "execute_result"
    }
   ],
   "source": [
    "result"
   ]
  },
  {
   "cell_type": "markdown",
   "metadata": {},
   "source": [
    "## Task\n",
    "Search for you favorite tv-show and return the information about it:\n",
    "- name\n",
    "- first air date\n",
    "- number of seasons\n",
    "- number of episodes\n",
    "- genres"
   ]
  },
  {
   "cell_type": "code",
   "execution_count": null,
   "metadata": {},
   "outputs": [],
   "source": []
  },
  {
   "cell_type": "code",
   "execution_count": null,
   "metadata": {},
   "outputs": [],
   "source": []
  },
  {
   "cell_type": "code",
   "execution_count": null,
   "metadata": {},
   "outputs": [],
   "source": []
  },
  {
   "cell_type": "markdown",
   "metadata": {},
   "source": [
    "## Task \n",
    "Find top 5 trending:\n",
    "- movies\n",
    "- tv-shows\n",
    "- people"
   ]
  },
  {
   "cell_type": "code",
   "execution_count": 140,
   "metadata": {},
   "outputs": [],
   "source": [
    "media = 'movie'  # 'movie', 'tv', 'person'\n",
    "time_window = 'week' # 'week','day'\n",
    "top = 10"
   ]
  },
  {
   "cell_type": "code",
   "execution_count": 141,
   "metadata": {},
   "outputs": [],
   "source": [
    "def searchTrendingTop(media,time_window,api_key,top):\n",
    "    #prepare search link \n",
    "    base = \"https://api.themoviedb.org/3\"\n",
    "    url = f'/trending/{media}/{time_window}'\n",
    "    params = f'?query={query}&api_key={api_key}' \n",
    "    \n",
    "    res = re.get(base+url+params)\n",
    "    if res.status_code != 200:\n",
    "        print('Something wrong！')\n",
    "        return False\n",
    "    list_ = {}\n",
    "    response = res.json()\n",
    "    \n",
    "    for i in range(len(response['results'])):\n",
    "        if media == 'movie':\n",
    "            list_[response['results'][i]['title']] = response['results'][i]['popularity']\n",
    "        else:\n",
    "            list_[response['results'][i]['name']] = response['results'][i]['popularity']\n",
    "    tops = sorted(list_.items(), key=lambda d: d[1], reverse=True) \n",
    "    \n",
    "    return tops[:top]"
   ]
  },
  {
   "cell_type": "code",
   "execution_count": 142,
   "metadata": {},
   "outputs": [
    {
     "data": {
      "text/plain": [
       "[('Space Jam: A New Legacy', 9427.563),\n",
       " ('The Forever Purge', 6464.587),\n",
       " ('Black Widow', 6296.895),\n",
       " ('The Boss Baby: Family Business', 4033.702),\n",
       " ('The Tomorrow War', 3285.611),\n",
       " ('Luca', 2826.016),\n",
       " ('Wrath of Man', 2053.612),\n",
       " ('F9', 1835.221),\n",
       " ('Cruella', 1597.561),\n",
       " ('A Quiet Place Part II', 1376.416)]"
      ]
     },
     "execution_count": 142,
     "metadata": {},
     "output_type": "execute_result"
    }
   ],
   "source": [
    "result = searchTrendingTop(media, time_window, api_key,top)\n",
    "result"
   ]
  },
  {
   "cell_type": "code",
   "execution_count": null,
   "metadata": {},
   "outputs": [],
   "source": []
  }
 ],
 "metadata": {
  "kernelspec": {
   "display_name": "Python 3",
   "language": "python",
   "name": "python3"
  },
  "language_info": {
   "codemirror_mode": {
    "name": "ipython",
    "version": 3
   },
   "file_extension": ".py",
   "mimetype": "text/x-python",
   "name": "python",
   "nbconvert_exporter": "python",
   "pygments_lexer": "ipython3",
   "version": "3.7.6"
  }
 },
 "nbformat": 4,
 "nbformat_minor": 4
}
